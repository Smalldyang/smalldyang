{
 "cells": [
  {
   "cell_type": "markdown",
   "metadata": {},
   "source": [
    "這次選擇的主題是Spaceship Titanic"
   ]
  },
  {
   "cell_type": "code",
   "execution_count": 2,
   "metadata": {},
   "outputs": [],
   "source": [
    "import pandas as pd\n",
    "import numpy as np\n",
    "import matplotlib.pyplot as plt\n",
    "import seaborn as sns\n",
    "df=pd.read_csv(\"space_train.csv\")"
   ]
  },
  {
   "cell_type": "markdown",
   "metadata": {},
   "source": [
    "再利用seaborn的資料圖形觀察決定將name, cabin, vip移出這一次要預測的訓練模型(較沒有關連性)"
   ]
  },
  {
   "cell_type": "code",
   "execution_count": 3,
   "metadata": {},
   "outputs": [
    {
     "data": {
      "text/plain": [
       "<seaborn.axisgrid.PairGrid at 0x285d3bf4af0>"
      ]
     },
     "execution_count": 3,
     "metadata": {},
     "output_type": "execute_result"
    },
    {
     "data": {
      "image/png": "[encoded data removed]",
      "text/plain": [
       "<Figure size 500x500 with 6 Axes>"
      ]
     },
     "metadata": {},
     "output_type": "display_data"
    }
   ],
   "source": [
    "sns.pairplot(df[['Transported','VIP']],dropna=True)"
   ]
  },
  {
   "cell_type": "code",
   "execution_count": 4,
   "metadata": {},
   "outputs": [],
   "source": [
    "df.drop(['Name','Cabin','VIP'],axis=1,inplace=True)"
   ]
  },
  {
   "cell_type": "markdown",
   "metadata": {},
   "source": [
    "再將Transported當作觀察判斷"
   ]
  },
  {
   "cell_type": "code",
   "execution_count": 8,
   "metadata": {},
   "outputs": [
    {
     "data": {
      "text/html": [
       "<div>\n",
       "<style scoped>\n",
       "    .dataframe tbody tr th:only-of-type {\n",
       "        vertical-align: middle;\n",
       "    }\n",
       "\n",
       "    .dataframe tbody tr th {\n",
       "        vertical-align: top;\n",
       "    }\n",
       "\n",
       "    .dataframe thead th {\n",
       "        text-align: right;\n",
       "    }\n",
       "</style>\n",
       "<table border=\"1\" class=\"dataframe\">\n",
       "  <thead>\n",
       "    <tr style=\"text-align: right;\">\n",
       "      <th></th>\n",
       "      <th>Age</th>\n",
       "      <th>RoomService</th>\n",
       "      <th>FoodCourt</th>\n",
       "      <th>ShoppingMall</th>\n",
       "      <th>Spa</th>\n",
       "      <th>VRDeck</th>\n",
       "    </tr>\n",
       "    <tr>\n",
       "      <th>Transported</th>\n",
       "      <th></th>\n",
       "      <th></th>\n",
       "      <th></th>\n",
       "      <th></th>\n",
       "      <th></th>\n",
       "      <th></th>\n",
       "    </tr>\n",
       "  </thead>\n",
       "  <tbody>\n",
       "    <tr>\n",
       "      <th>False</th>\n",
       "      <td>29.922858</td>\n",
       "      <td>389.266066</td>\n",
       "      <td>382.615930</td>\n",
       "      <td>167.566217</td>\n",
       "      <td>564.382666</td>\n",
       "      <td>543.629822</td>\n",
       "    </tr>\n",
       "    <tr>\n",
       "      <th>True</th>\n",
       "      <td>27.748834</td>\n",
       "      <td>63.098021</td>\n",
       "      <td>532.691984</td>\n",
       "      <td>179.829972</td>\n",
       "      <td>61.675531</td>\n",
       "      <td>69.148131</td>\n",
       "    </tr>\n",
       "  </tbody>\n",
       "</table>\n",
       "</div>"
      ],
      "text/plain": [
       "                   Age  RoomService   FoodCourt  ShoppingMall         Spa  \\\n",
       "Transported                                                                 \n",
       "False        29.922858   389.266066  382.615930    167.566217  564.382666   \n",
       "True         27.748834    63.098021  532.691984    179.829972   61.675531   \n",
       "\n",
       "                 VRDeck  \n",
       "Transported              \n",
       "False        543.629822  \n",
       "True          69.148131  "
      ]
     },
     "execution_count": 8,
     "metadata": {},
     "output_type": "execute_result"
    }
   ],
   "source": [
    "df.groupby('Transported').mean(numeric_only=True)"
   ]
  },
  {
   "cell_type": "markdown",
   "metadata": {},
   "source": [
    "尋找空值"
   ]
  },
  {
   "cell_type": "code",
   "execution_count": 9,
   "metadata": {},
   "outputs": [
    {
     "data": {
      "text/plain": [
       "PassengerId       0\n",
       "HomePlanet      201\n",
       "CryoSleep       217\n",
       "Destination     182\n",
       "Age             179\n",
       "RoomService     181\n",
       "FoodCourt       183\n",
       "ShoppingMall    208\n",
       "Spa             183\n",
       "VRDeck          188\n",
       "Transported       0\n",
       "dtype: int64"
      ]
     },
     "execution_count": 9,
     "metadata": {},
     "output_type": "execute_result"
    }
   ],
   "source": [
    "df.isnull().sum()"
   ]
  },
  {
   "cell_type": "markdown",
   "metadata": {},
   "source": [
    "在Age中，我決定利用現有資料的平均來彌補空值，而其他利用中位數或著最常出現的值作為彌補值。"
   ]
  },
  {
   "cell_type": "code",
   "execution_count": 10,
   "metadata": {},
   "outputs": [],
   "source": [
    "df['Age'].fillna(29 ,inplace = True)\n",
    "\n",
    "df['HomePlanet'].fillna(df['HomePlanet'].value_counts().idxmax(),inplace=True)\n",
    "df['CryoSleep'].fillna(df['CryoSleep'].value_counts().idxmax(),inplace=True)\n",
    "df['Destination'].fillna(df['Destination'].value_counts().idxmax(),inplace=True)\n",
    "df['RoomService'].fillna(df['RoomService'].value_counts().median(),inplace=True)\n",
    "df['FoodCourt'].fillna(df['FoodCourt'].value_counts().median(),inplace=True)\n",
    "df['ShoppingMall'].fillna(df['ShoppingMall'].value_counts().median(),inplace=True)\n",
    "df['Spa'].fillna(df['Spa'].value_counts().median(),inplace=True)\n",
    "df['VRDeck'].fillna(df['VRDeck'].value_counts().median(),inplace=True)"
   ]
  },
  {
   "cell_type": "markdown",
   "metadata": {},
   "source": [
    "接下來按照講義建立預測模型"
   ]
  },
  {
   "cell_type": "code",
   "execution_count": 11,
   "metadata": {},
   "outputs": [],
   "source": [
    "df=pd.get_dummies(data=df, dtype=int, columns=['HomePlanet','Destination'])\n",
    "df.head()\n",
    "df=pd.get_dummies(data=df, dtype=int, columns=['CryoSleep'])"
   ]
  },
  {
   "cell_type": "code",
   "execution_count": 13,
   "metadata": {},
   "outputs": [
    {
     "data": {
      "text/html": [
       "<div>\n",
       "<style scoped>\n",
       "    .dataframe tbody tr th:only-of-type {\n",
       "        vertical-align: middle;\n",
       "    }\n",
       "\n",
       "    .dataframe tbody tr th {\n",
       "        vertical-align: top;\n",
       "    }\n",
       "\n",
       "    .dataframe thead th {\n",
       "        text-align: right;\n",
       "    }\n",
       "</style>\n",
       "<table border=\"1\" class=\"dataframe\">\n",
       "  <thead>\n",
       "    <tr style=\"text-align: right;\">\n",
       "      <th></th>\n",
       "      <th>PassengerId</th>\n",
       "      <th>Age</th>\n",
       "      <th>RoomService</th>\n",
       "      <th>FoodCourt</th>\n",
       "      <th>ShoppingMall</th>\n",
       "      <th>Spa</th>\n",
       "      <th>VRDeck</th>\n",
       "      <th>Transported</th>\n",
       "      <th>HomePlanet_Earth</th>\n",
       "      <th>HomePlanet_Europa</th>\n",
       "      <th>HomePlanet_Mars</th>\n",
       "      <th>Destination_55 Cancri e</th>\n",
       "      <th>Destination_PSO J318.5-22</th>\n",
       "      <th>Destination_TRAPPIST-1e</th>\n",
       "      <th>CryoSleep_False</th>\n",
       "      <th>CryoSleep_True</th>\n",
       "    </tr>\n",
       "  </thead>\n",
       "  <tbody>\n",
       "    <tr>\n",
       "      <th>PassengerId</th>\n",
       "      <td>1.000000</td>\n",
       "      <td>-0.009370</td>\n",
       "      <td>0.000372</td>\n",
       "      <td>-0.009200</td>\n",
       "      <td>0.017792</td>\n",
       "      <td>-0.005198</td>\n",
       "      <td>0.015943</td>\n",
       "      <td>0.021491</td>\n",
       "      <td>0.002833</td>\n",
       "      <td>0.004946</td>\n",
       "      <td>-0.008802</td>\n",
       "      <td>-0.001458</td>\n",
       "      <td>0.013533</td>\n",
       "      <td>-0.007238</td>\n",
       "      <td>0.006883</td>\n",
       "      <td>-0.006883</td>\n",
       "    </tr>\n",
       "    <tr>\n",
       "      <th>Age</th>\n",
       "      <td>-0.009370</td>\n",
       "      <td>1.000000</td>\n",
       "      <td>0.068402</td>\n",
       "      <td>0.127338</td>\n",
       "      <td>0.032816</td>\n",
       "      <td>0.121081</td>\n",
       "      <td>0.099545</td>\n",
       "      <td>-0.074249</td>\n",
       "      <td>-0.201134</td>\n",
       "      <td>0.217450</td>\n",
       "      <td>0.016105</td>\n",
       "      <td>0.016698</td>\n",
       "      <td>-0.028258</td>\n",
       "      <td>0.003024</td>\n",
       "      <td>0.070680</td>\n",
       "      <td>-0.070680</td>\n",
       "    </tr>\n",
       "    <tr>\n",
       "      <th>RoomService</th>\n",
       "      <td>0.000372</td>\n",
       "      <td>0.068402</td>\n",
       "      <td>1.000000</td>\n",
       "      <td>-0.015128</td>\n",
       "      <td>0.052341</td>\n",
       "      <td>0.009247</td>\n",
       "      <td>-0.018625</td>\n",
       "      <td>-0.241129</td>\n",
       "      <td>-0.140482</td>\n",
       "      <td>-0.066639</td>\n",
       "      <td>0.245224</td>\n",
       "      <td>-0.023445</td>\n",
       "      <td>-0.063352</td>\n",
       "      <td>0.060682</td>\n",
       "      <td>0.244090</td>\n",
       "      <td>-0.244090</td>\n",
       "    </tr>\n",
       "    <tr>\n",
       "      <th>FoodCourt</th>\n",
       "      <td>-0.009200</td>\n",
       "      <td>0.127338</td>\n",
       "      <td>-0.015128</td>\n",
       "      <td>1.000000</td>\n",
       "      <td>-0.013719</td>\n",
       "      <td>0.221466</td>\n",
       "      <td>0.224571</td>\n",
       "      <td>0.045585</td>\n",
       "      <td>-0.215062</td>\n",
       "      <td>0.365103</td>\n",
       "      <td>-0.124755</td>\n",
       "      <td>0.134952</td>\n",
       "      <td>-0.065400</td>\n",
       "      <td>-0.078269</td>\n",
       "      <td>0.205928</td>\n",
       "      <td>-0.205928</td>\n",
       "    </tr>\n",
       "    <tr>\n",
       "      <th>ShoppingMall</th>\n",
       "      <td>0.017792</td>\n",
       "      <td>0.032816</td>\n",
       "      <td>0.052341</td>\n",
       "      <td>-0.013719</td>\n",
       "      <td>1.000000</td>\n",
       "      <td>0.014538</td>\n",
       "      <td>-0.007846</td>\n",
       "      <td>0.009395</td>\n",
       "      <td>-0.071910</td>\n",
       "      <td>-0.021154</td>\n",
       "      <td>0.111652</td>\n",
       "      <td>-0.013737</td>\n",
       "      <td>-0.031246</td>\n",
       "      <td>0.031854</td>\n",
       "      <td>0.207791</td>\n",
       "      <td>-0.207791</td>\n",
       "    </tr>\n",
       "    <tr>\n",
       "      <th>Spa</th>\n",
       "      <td>-0.005198</td>\n",
       "      <td>0.121081</td>\n",
       "      <td>0.009247</td>\n",
       "      <td>0.221466</td>\n",
       "      <td>0.014538</td>\n",
       "      <td>1.000000</td>\n",
       "      <td>0.147659</td>\n",
       "      <td>-0.218546</td>\n",
       "      <td>-0.159120</td>\n",
       "      <td>0.266105</td>\n",
       "      <td>-0.087990</td>\n",
       "      <td>0.075097</td>\n",
       "      <td>-0.053303</td>\n",
       "      <td>-0.032898</td>\n",
       "      <td>0.198307</td>\n",
       "      <td>-0.198307</td>\n",
       "    </tr>\n",
       "    <tr>\n",
       "      <th>VRDeck</th>\n",
       "      <td>0.015943</td>\n",
       "      <td>0.099545</td>\n",
       "      <td>-0.018625</td>\n",
       "      <td>0.224571</td>\n",
       "      <td>-0.007846</td>\n",
       "      <td>0.147659</td>\n",
       "      <td>1.000000</td>\n",
       "      <td>-0.204874</td>\n",
       "      <td>-0.154063</td>\n",
       "      <td>0.282555</td>\n",
       "      <td>-0.111863</td>\n",
       "      <td>0.089668</td>\n",
       "      <td>-0.044863</td>\n",
       "      <td>-0.051118</td>\n",
       "      <td>0.192723</td>\n",
       "      <td>-0.192723</td>\n",
       "    </tr>\n",
       "    <tr>\n",
       "      <th>Transported</th>\n",
       "      <td>0.021491</td>\n",
       "      <td>-0.074249</td>\n",
       "      <td>-0.241129</td>\n",
       "      <td>0.045585</td>\n",
       "      <td>0.009395</td>\n",
       "      <td>-0.218546</td>\n",
       "      <td>-0.204874</td>\n",
       "      <td>1.000000</td>\n",
       "      <td>-0.168845</td>\n",
       "      <td>0.176916</td>\n",
       "      <td>0.019544</td>\n",
       "      <td>0.108722</td>\n",
       "      <td>0.000092</td>\n",
       "      <td>-0.096319</td>\n",
       "      <td>-0.460132</td>\n",
       "      <td>0.460132</td>\n",
       "    </tr>\n",
       "    <tr>\n",
       "      <th>HomePlanet_Earth</th>\n",
       "      <td>0.002833</td>\n",
       "      <td>-0.201134</td>\n",
       "      <td>-0.140482</td>\n",
       "      <td>-0.215062</td>\n",
       "      <td>-0.071910</td>\n",
       "      <td>-0.159120</td>\n",
       "      <td>-0.154063</td>\n",
       "      <td>-0.168845</td>\n",
       "      <td>1.000000</td>\n",
       "      <td>-0.633221</td>\n",
       "      <td>-0.559658</td>\n",
       "      <td>-0.156169</td>\n",
       "      <td>0.231177</td>\n",
       "      <td>-0.007418</td>\n",
       "      <td>0.107231</td>\n",
       "      <td>-0.107231</td>\n",
       "    </tr>\n",
       "    <tr>\n",
       "      <th>HomePlanet_Europa</th>\n",
       "      <td>0.004946</td>\n",
       "      <td>0.217450</td>\n",
       "      <td>-0.066639</td>\n",
       "      <td>0.365103</td>\n",
       "      <td>-0.021154</td>\n",
       "      <td>0.266105</td>\n",
       "      <td>0.282555</td>\n",
       "      <td>0.176916</td>\n",
       "      <td>-0.633221</td>\n",
       "      <td>1.000000</td>\n",
       "      <td>-0.287022</td>\n",
       "      <td>0.293517</td>\n",
       "      <td>-0.163308</td>\n",
       "      <td>-0.156958</td>\n",
       "      <td>-0.093395</td>\n",
       "      <td>0.093395</td>\n",
       "    </tr>\n",
       "    <tr>\n",
       "      <th>HomePlanet_Mars</th>\n",
       "      <td>-0.008802</td>\n",
       "      <td>0.016105</td>\n",
       "      <td>0.245224</td>\n",
       "      <td>-0.124755</td>\n",
       "      <td>0.111652</td>\n",
       "      <td>-0.087990</td>\n",
       "      <td>-0.111863</td>\n",
       "      <td>0.019544</td>\n",
       "      <td>-0.559658</td>\n",
       "      <td>-0.287022</td>\n",
       "      <td>1.000000</td>\n",
       "      <td>-0.120996</td>\n",
       "      <td>-0.111260</td>\n",
       "      <td>0.177243</td>\n",
       "      <td>-0.032715</td>\n",
       "      <td>0.032715</td>\n",
       "    </tr>\n",
       "    <tr>\n",
       "      <th>Destination_55 Cancri e</th>\n",
       "      <td>-0.001458</td>\n",
       "      <td>0.016698</td>\n",
       "      <td>-0.023445</td>\n",
       "      <td>0.134952</td>\n",
       "      <td>-0.013737</td>\n",
       "      <td>0.075097</td>\n",
       "      <td>0.089668</td>\n",
       "      <td>0.108722</td>\n",
       "      <td>-0.156169</td>\n",
       "      <td>0.293517</td>\n",
       "      <td>-0.120996</td>\n",
       "      <td>1.000000</td>\n",
       "      <td>-0.162240</td>\n",
       "      <td>-0.783137</td>\n",
       "      <td>-0.065589</td>\n",
       "      <td>0.065589</td>\n",
       "    </tr>\n",
       "    <tr>\n",
       "      <th>Destination_PSO J318.5-22</th>\n",
       "      <td>0.013533</td>\n",
       "      <td>-0.028258</td>\n",
       "      <td>-0.063352</td>\n",
       "      <td>-0.065400</td>\n",
       "      <td>-0.031246</td>\n",
       "      <td>-0.053303</td>\n",
       "      <td>-0.044863</td>\n",
       "      <td>0.000092</td>\n",
       "      <td>0.231177</td>\n",
       "      <td>-0.163308</td>\n",
       "      <td>-0.111260</td>\n",
       "      <td>-0.162240</td>\n",
       "      <td>1.000000</td>\n",
       "      <td>-0.486554</td>\n",
       "      <td>-0.087764</td>\n",
       "      <td>0.087764</td>\n",
       "    </tr>\n",
       "    <tr>\n",
       "      <th>Destination_TRAPPIST-1e</th>\n",
       "      <td>-0.007238</td>\n",
       "      <td>0.003024</td>\n",
       "      <td>0.060682</td>\n",
       "      <td>-0.078269</td>\n",
       "      <td>0.031854</td>\n",
       "      <td>-0.032898</td>\n",
       "      <td>-0.051118</td>\n",
       "      <td>-0.096319</td>\n",
       "      <td>-0.007418</td>\n",
       "      <td>-0.156958</td>\n",
       "      <td>0.177243</td>\n",
       "      <td>-0.783137</td>\n",
       "      <td>-0.486554</td>\n",
       "      <td>1.000000</td>\n",
       "      <td>0.113380</td>\n",
       "      <td>-0.113380</td>\n",
       "    </tr>\n",
       "    <tr>\n",
       "      <th>CryoSleep_False</th>\n",
       "      <td>0.006883</td>\n",
       "      <td>0.070680</td>\n",
       "      <td>0.244090</td>\n",
       "      <td>0.205928</td>\n",
       "      <td>0.207791</td>\n",
       "      <td>0.198307</td>\n",
       "      <td>0.192723</td>\n",
       "      <td>-0.460132</td>\n",
       "      <td>0.107231</td>\n",
       "      <td>-0.093395</td>\n",
       "      <td>-0.032715</td>\n",
       "      <td>-0.065589</td>\n",
       "      <td>-0.087764</td>\n",
       "      <td>0.113380</td>\n",
       "      <td>1.000000</td>\n",
       "      <td>-1.000000</td>\n",
       "    </tr>\n",
       "    <tr>\n",
       "      <th>CryoSleep_True</th>\n",
       "      <td>-0.006883</td>\n",
       "      <td>-0.070680</td>\n",
       "      <td>-0.244090</td>\n",
       "      <td>-0.205928</td>\n",
       "      <td>-0.207791</td>\n",
       "      <td>-0.198307</td>\n",
       "      <td>-0.192723</td>\n",
       "      <td>0.460132</td>\n",
       "      <td>-0.107231</td>\n",
       "      <td>0.093395</td>\n",
       "      <td>0.032715</td>\n",
       "      <td>0.065589</td>\n",
       "      <td>0.087764</td>\n",
       "      <td>-0.113380</td>\n",
       "      <td>-1.000000</td>\n",
       "      <td>1.000000</td>\n",
       "    </tr>\n",
       "  </tbody>\n",
       "</table>\n",
       "</div>"
      ],
      "text/plain": [
       "                           PassengerId       Age  RoomService  FoodCourt  \\\n",
       "PassengerId                   1.000000 -0.009370     0.000372  -0.009200   \n",
       "Age                          -0.009370  1.000000     0.068402   0.127338   \n",
       "RoomService                   0.000372  0.068402     1.000000  -0.015128   \n",
       "FoodCourt                    -0.009200  0.127338    -0.015128   1.000000   \n",
       "ShoppingMall                  0.017792  0.032816     0.052341  -0.013719   \n",
       "Spa                          -0.005198  0.121081     0.009247   0.221466   \n",
       "VRDeck                        0.015943  0.099545    -0.018625   0.224571   \n",
       "Transported                   0.021491 -0.074249    -0.241129   0.045585   \n",
       "HomePlanet_Earth              0.002833 -0.201134    -0.140482  -0.215062   \n",
       "HomePlanet_Europa             0.004946  0.217450    -0.066639   0.365103   \n",
       "HomePlanet_Mars              -0.008802  0.016105     0.245224  -0.124755   \n",
       "Destination_55 Cancri e      -0.001458  0.016698    -0.023445   0.134952   \n",
       "Destination_PSO J318.5-22     0.013533 -0.028258    -0.063352  -0.065400   \n",
       "Destination_TRAPPIST-1e      -0.007238  0.003024     0.060682  -0.078269   \n",
       "CryoSleep_False               0.006883  0.070680     0.244090   0.205928   \n",
       "CryoSleep_True               -0.006883 -0.070680    -0.244090  -0.205928   \n",
       "\n",
       "                           ShoppingMall       Spa    VRDeck  Transported  \\\n",
       "PassengerId                    0.017792 -0.005198  0.015943     0.021491   \n",
       "Age                            0.032816  0.121081  0.099545    -0.074249   \n",
       "RoomService                    0.052341  0.009247 -0.018625    -0.241129   \n",
       "FoodCourt                     -0.013719  0.221466  0.224571     0.045585   \n",
       "ShoppingMall                   1.000000  0.014538 -0.007846     0.009395   \n",
       "Spa                            0.014538  1.000000  0.147659    -0.218546   \n",
       "VRDeck                        -0.007846  0.147659  1.000000    -0.204874   \n",
       "Transported                    0.009395 -0.218546 -0.204874     1.000000   \n",
       "HomePlanet_Earth              -0.071910 -0.159120 -0.154063    -0.168845   \n",
       "HomePlanet_Europa             -0.021154  0.266105  0.282555     0.176916   \n",
       "HomePlanet_Mars                0.111652 -0.087990 -0.111863     0.019544   \n",
       "Destination_55 Cancri e       -0.013737  0.075097  0.089668     0.108722   \n",
       "Destination_PSO J318.5-22     -0.031246 -0.053303 -0.044863     0.000092   \n",
       "Destination_TRAPPIST-1e        0.031854 -0.032898 -0.051118    -0.096319   \n",
       "CryoSleep_False                0.207791  0.198307  0.192723    -0.460132   \n",
       "CryoSleep_True                -0.207791 -0.198307 -0.192723     0.460132   \n",
       "\n",
       "                           HomePlanet_Earth  HomePlanet_Europa  \\\n",
       "PassengerId                        0.002833           0.004946   \n",
       "Age                               -0.201134           0.217450   \n",
       "RoomService                       -0.140482          -0.066639   \n",
       "FoodCourt                         -0.215062           0.365103   \n",
       "ShoppingMall                      -0.071910          -0.021154   \n",
       "Spa                               -0.159120           0.266105   \n",
       "VRDeck                            -0.154063           0.282555   \n",
       "Transported                       -0.168845           0.176916   \n",
       "HomePlanet_Earth                   1.000000          -0.633221   \n",
       "HomePlanet_Europa                 -0.633221           1.000000   \n",
       "HomePlanet_Mars                   -0.559658          -0.287022   \n",
       "Destination_55 Cancri e           -0.156169           0.293517   \n",
       "Destination_PSO J318.5-22          0.231177          -0.163308   \n",
       "Destination_TRAPPIST-1e           -0.007418          -0.156958   \n",
       "CryoSleep_False                    0.107231          -0.093395   \n",
       "CryoSleep_True                    -0.107231           0.093395   \n",
       "\n",
       "                           HomePlanet_Mars  Destination_55 Cancri e  \\\n",
       "PassengerId                      -0.008802                -0.001458   \n",
       "Age                               0.016105                 0.016698   \n",
       "RoomService                       0.245224                -0.023445   \n",
       "FoodCourt                        -0.124755                 0.134952   \n",
       "ShoppingMall                      0.111652                -0.013737   \n",
       "Spa                              -0.087990                 0.075097   \n",
       "VRDeck                           -0.111863                 0.089668   \n",
       "Transported                       0.019544                 0.108722   \n",
       "HomePlanet_Earth                 -0.559658                -0.156169   \n",
       "HomePlanet_Europa                -0.287022                 0.293517   \n",
       "HomePlanet_Mars                   1.000000                -0.120996   \n",
       "Destination_55 Cancri e          -0.120996                 1.000000   \n",
       "Destination_PSO J318.5-22        -0.111260                -0.162240   \n",
       "Destination_TRAPPIST-1e           0.177243                -0.783137   \n",
       "CryoSleep_False                  -0.032715                -0.065589   \n",
       "CryoSleep_True                    0.032715                 0.065589   \n",
       "\n",
       "                           Destination_PSO J318.5-22  Destination_TRAPPIST-1e  \\\n",
       "PassengerId                                 0.013533                -0.007238   \n",
       "Age                                        -0.028258                 0.003024   \n",
       "RoomService                                -0.063352                 0.060682   \n",
       "FoodCourt                                  -0.065400                -0.078269   \n",
       "ShoppingMall                               -0.031246                 0.031854   \n",
       "Spa                                        -0.053303                -0.032898   \n",
       "VRDeck                                     -0.044863                -0.051118   \n",
       "Transported                                 0.000092                -0.096319   \n",
       "HomePlanet_Earth                            0.231177                -0.007418   \n",
       "HomePlanet_Europa                          -0.163308                -0.156958   \n",
       "HomePlanet_Mars                            -0.111260                 0.177243   \n",
       "Destination_55 Cancri e                    -0.162240                -0.783137   \n",
       "Destination_PSO J318.5-22                   1.000000                -0.486554   \n",
       "Destination_TRAPPIST-1e                    -0.486554                 1.000000   \n",
       "CryoSleep_False                            -0.087764                 0.113380   \n",
       "CryoSleep_True                              0.087764                -0.113380   \n",
       "\n",
       "                           CryoSleep_False  CryoSleep_True  \n",
       "PassengerId                       0.006883       -0.006883  \n",
       "Age                               0.070680       -0.070680  \n",
       "RoomService                       0.244090       -0.244090  \n",
       "FoodCourt                         0.205928       -0.205928  \n",
       "ShoppingMall                      0.207791       -0.207791  \n",
       "Spa                               0.198307       -0.198307  \n",
       "VRDeck                            0.192723       -0.192723  \n",
       "Transported                      -0.460132        0.460132  \n",
       "HomePlanet_Earth                  0.107231       -0.107231  \n",
       "HomePlanet_Europa                -0.093395        0.093395  \n",
       "HomePlanet_Mars                  -0.032715        0.032715  \n",
       "Destination_55 Cancri e          -0.065589        0.065589  \n",
       "Destination_PSO J318.5-22        -0.087764        0.087764  \n",
       "Destination_TRAPPIST-1e           0.113380       -0.113380  \n",
       "CryoSleep_False                   1.000000       -1.000000  \n",
       "CryoSleep_True                   -1.000000        1.000000  "
      ]
     },
     "execution_count": 13,
     "metadata": {},
     "output_type": "execute_result"
    }
   ],
   "source": [
    "df.corr()"
   ]
  },
  {
   "cell_type": "code",
   "execution_count": 14,
   "metadata": {},
   "outputs": [],
   "source": [
    "\n",
    "\n",
    "X=df.drop(['Transported'],axis=1)\n",
    "y=df['Transported']\n",
    "from sklearn.model_selection import train_test_split\n",
    "X_train,X_test,y_train,y_test=train_test_split(X,y,test_size=0.3,random_state=67)"
   ]
  },
  {
   "cell_type": "code",
   "execution_count": 15,
   "metadata": {},
   "outputs": [],
   "source": [
    "from sklearn.linear_model import LogisticRegression\n",
    "lr=LogisticRegression(max_iter=200)\n",
    "lr.fit(X_train,y_train)\n",
    "predictions=lr.predict(X_test)"
   ]
  },
  {
   "cell_type": "code",
   "execution_count": 16,
   "metadata": {},
   "outputs": [
    {
     "data": {
      "text/plain": [
       "array([False,  True, False, ...,  True,  True, False])"
      ]
     },
     "execution_count": 16,
     "metadata": {},
     "output_type": "execute_result"
    }
   ],
   "source": [
    "predictions"
   ]
  },
  {
   "cell_type": "code",
   "execution_count": 17,
   "metadata": {},
   "outputs": [
    {
     "data": {
      "text/plain": [
       "0.7291280148423006"
      ]
     },
     "execution_count": 17,
     "metadata": {},
     "output_type": "execute_result"
    }
   ],
   "source": [
    "from sklearn.metrics import confusion_matrix,accuracy_score, recall_score, precision_score\n",
    "accuracy_score(y_test,predictions)\n",
    "recall_score(y_test,predictions)\n",
    "precision_score(y_test,predictions)"
   ]
  },
  {
   "cell_type": "code",
   "execution_count": 18,
   "metadata": {},
   "outputs": [
    {
     "data": {
      "text/html": [
       "<div>\n",
       "<style scoped>\n",
       "    .dataframe tbody tr th:only-of-type {\n",
       "        vertical-align: middle;\n",
       "    }\n",
       "\n",
       "    .dataframe tbody tr th {\n",
       "        vertical-align: top;\n",
       "    }\n",
       "\n",
       "    .dataframe thead th {\n",
       "        text-align: right;\n",
       "    }\n",
       "</style>\n",
       "<table border=\"1\" class=\"dataframe\">\n",
       "  <thead>\n",
       "    <tr style=\"text-align: right;\">\n",
       "      <th></th>\n",
       "      <th>Predict not Transported</th>\n",
       "      <th>Predict Transported</th>\n",
       "    </tr>\n",
       "  </thead>\n",
       "  <tbody>\n",
       "    <tr>\n",
       "      <th>True not Transported</th>\n",
       "      <td>858</td>\n",
       "      <td>438</td>\n",
       "    </tr>\n",
       "    <tr>\n",
       "      <th>True Transported</th>\n",
       "      <td>133</td>\n",
       "      <td>1179</td>\n",
       "    </tr>\n",
       "  </tbody>\n",
       "</table>\n",
       "</div>"
      ],
      "text/plain": [
       "                      Predict not Transported  Predict Transported\n",
       "True not Transported                      858                  438\n",
       "True Transported                          133                 1179"
      ]
     },
     "execution_count": 18,
     "metadata": {},
     "output_type": "execute_result"
    }
   ],
   "source": [
    "pd.DataFrame(confusion_matrix(y_test,predictions),columns=['Predict not Transported', 'Predict Transported'],index=['True not Transported','True Transported'])"
   ]
  },
  {
   "cell_type": "code",
   "execution_count": 19,
   "metadata": {},
   "outputs": [
    {
     "data": {
      "text/plain": [
       "['space-lr-20231113.pkl']"
      ]
     },
     "execution_count": 19,
     "metadata": {},
     "output_type": "execute_result"
    }
   ],
   "source": [
    "import joblib\n",
    "joblib.dump(lr,'space-lr-20231113.pkl',compress=3)"
   ]
  },
  {
   "cell_type": "markdown",
   "metadata": {},
   "source": [
    "輸出預測模型後，修改測值數據集以套用模型"
   ]
  },
  {
   "cell_type": "code",
   "execution_count": 20,
   "metadata": {},
   "outputs": [],
   "source": [
    "import joblib\n",
    "model_pretrained = joblib.load('space-lr-20231113.pkl')\n",
    "import pandas as pd\n",
    "df_test = pd.read_csv(\"test.csv\")"
   ]
  },
  {
   "cell_type": "code",
   "execution_count": 21,
   "metadata": {},
   "outputs": [],
   "source": [
    "df_test.drop(['Name','Cabin','VIP'],axis=1,inplace=True)"
   ]
  },
  {
   "cell_type": "code",
   "execution_count": 22,
   "metadata": {},
   "outputs": [],
   "source": [
    "df_test['Age'].fillna(29 ,inplace = True)\n",
    "\n",
    "df_test['HomePlanet'].fillna(df_test['HomePlanet'].value_counts().idxmax(),inplace=True)\n",
    "df_test['CryoSleep'].fillna(df_test['CryoSleep'].value_counts().idxmax(),inplace=True)\n",
    "df_test['Destination'].fillna(df_test['Destination'].value_counts().idxmax(),inplace=True)\n",
    "df_test['RoomService'].fillna(df_test['RoomService'].value_counts().median(),inplace=True)\n",
    "df_test['FoodCourt'].fillna(df_test['FoodCourt'].value_counts().median(),inplace=True)\n",
    "df_test['ShoppingMall'].fillna(df_test['ShoppingMall'].value_counts().median(),inplace=True)\n",
    "df_test['Spa'].fillna(df_test['Spa'].value_counts().median(),inplace=True)\n",
    "df_test['VRDeck'].fillna(df_test['VRDeck'].value_counts().median(),inplace=True)\n"
   ]
  },
  {
   "cell_type": "code",
   "execution_count": 23,
   "metadata": {},
   "outputs": [
    {
     "data": {
      "text/plain": [
       "array([ True, False,  True, ...,  True,  True,  True])"
      ]
     },
     "execution_count": 23,
     "metadata": {},
     "output_type": "execute_result"
    }
   ],
   "source": [
    "df_test=pd.get_dummies(data=df_test, dtype=int, columns=['HomePlanet','Destination','CryoSleep'])\n",
    "\n",
    "predictions2=model_pretrained.predict(df_test)\n",
    "predictions2"
   ]
  },
  {
   "cell_type": "markdown",
   "metadata": {},
   "source": [
    "設定預測結果參數並輸出結果"
   ]
  },
  {
   "cell_type": "code",
   "execution_count": 25,
   "metadata": {},
   "outputs": [],
   "source": [
    "forSubmissionDF=pd.DataFrame(columns=['PassengerId','Transported'])\n",
    "forSubmissionDF['PassengerId']=df_test.PassengerId\n",
    "forSubmissionDF['Transported']=predictions2\n",
    "forSubmissionDF\n",
    "forSubmissionDF.to_csv('for_submission_20231113.csv', index=False)\n"
   ]
  },
  {
   "cell_type": "markdown",
   "metadata": {},
   "source": [
    "![jupyter](./092737.png)"
   ]
  }
 ],
 "metadata": {
  "kernelspec": {
   "display_name": "Python 3",
   "language": "python",
   "name": "python3"
  },
  "language_info": {
   "codemirror_mode": {
    "name": "ipython",
    "version": 3
   },
   "file_extension": ".py",
   "mimetype": "text/x-python",
   "name": "python",
   "nbconvert_exporter": "python",
   "pygments_lexer": "ipython3",
   "version": "3.10.11"
  }
 },
 "nbformat": 4,
 "nbformat_minor": 2
}
